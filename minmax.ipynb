{
 "cells": [
  {
   "cell_type": "markdown",
   "id": "2d1ea266-4333-49af-b325-d0aabcf76ead",
   "metadata": {},
   "source": [
    "Tic-Tac-Toe game - Minimax algorithm"
   ]
  },
  {
   "cell_type": "markdown",
   "id": "fbaa34e3-bd8f-4779-8e8a-9ccd9ecc9650",
   "metadata": {
    "scrolled": true
   },
   "source": [
    "code implements a simple command-line Tic-Tac-Toe game where a human player competes against an AI. The game board is represented as a list of 9 elements, with spaces (\" \") denoting empty spots. The player uses \"X,\" while the AI uses \"O.\" The game alternates turns, starting with either the player or the AI, chosen randomly. The player selects moves by entering a number (0-8) corresponding to the board's position, validated by the get_player_move function. The AI uses the Minimax algorithm to evaluate possible game states and choose the optimal move, ensuring it either wins or minimizes the player's chances of winning. The check_winner function verifies if a win condition (three in a row) is met for either \"X\" or \"O,\" while check_tie determines if the game ends in a draw. The main game loop (play_game) displays the board after each move, checks for win or tie conditions, and announces the outcome. This implementation ensures fair gameplay and provides an unbeatable AI opponent."
   ]
  },
  {
   "cell_type": "code",
   "execution_count": 1,
   "id": "11f917ab-76cf-4d5d-9927-faed5b2b6d81",
   "metadata": {},
   "outputs": [
    {
     "name": "stdout",
     "output_type": "stream",
     "text": [
      "Welcome to Tic-Tac-Toe!\n",
      "  |   |  \n",
      "---------\n",
      "  |   |  \n",
      "---------\n",
      "  |   |  \n"
     ]
    },
    {
     "name": "stdin",
     "output_type": "stream",
     "text": [
      "Enter your move (0-8):  5\n"
     ]
    },
    {
     "name": "stdout",
     "output_type": "stream",
     "text": [
      "  |   |  \n",
      "---------\n",
      "  |   | X\n",
      "---------\n",
      "  |   |  \n",
      "AI is making a move...\n",
      "  |   | O\n",
      "---------\n",
      "  |   | X\n",
      "---------\n",
      "  |   |  \n"
     ]
    },
    {
     "name": "stdin",
     "output_type": "stream",
     "text": [
      "Enter your move (0-8):  4\n"
     ]
    },
    {
     "name": "stdout",
     "output_type": "stream",
     "text": [
      "  |   | O\n",
      "---------\n",
      "  | X | X\n",
      "---------\n",
      "  |   |  \n",
      "AI is making a move...\n",
      "  |   | O\n",
      "---------\n",
      "O | X | X\n",
      "---------\n",
      "  |   |  \n"
     ]
    },
    {
     "name": "stdin",
     "output_type": "stream",
     "text": [
      "Enter your move (0-8):  1\n"
     ]
    },
    {
     "name": "stdout",
     "output_type": "stream",
     "text": [
      "  | X | O\n",
      "---------\n",
      "O | X | X\n",
      "---------\n",
      "  |   |  \n",
      "AI is making a move...\n",
      "  | X | O\n",
      "---------\n",
      "O | X | X\n",
      "---------\n",
      "  | O |  \n"
     ]
    },
    {
     "name": "stdin",
     "output_type": "stream",
     "text": [
      "Enter your move (0-8):  6\n"
     ]
    },
    {
     "name": "stdout",
     "output_type": "stream",
     "text": [
      "  | X | O\n",
      "---------\n",
      "O | X | X\n",
      "---------\n",
      "X | O |  \n",
      "AI is making a move...\n",
      "O | X | O\n",
      "---------\n",
      "O | X | X\n",
      "---------\n",
      "X | O |  \n"
     ]
    },
    {
     "name": "stdin",
     "output_type": "stream",
     "text": [
      "Enter your move (0-8):  8\n"
     ]
    },
    {
     "name": "stdout",
     "output_type": "stream",
     "text": [
      "O | X | O\n",
      "---------\n",
      "O | X | X\n",
      "---------\n",
      "X | O | X\n",
      "It's a tie!\n"
     ]
    }
   ],
   "source": [
    "import random\n",
    "\n",
    "def draw_board(board):\n",
    "    \"\"\"Display the current state of the board.\"\"\"\n",
    "    print(board[0], \"|\", board[1], \"|\", board[2])\n",
    "    print(\"---------\")\n",
    "    print(board[3], \"|\", board[4], \"|\", board[5])\n",
    "    print(\"---------\")\n",
    "    print(board[6], \"|\", board[7], \"|\", board[8])\n",
    "\n",
    "def get_player_move(board):\n",
    "    \"\"\"Prompt the player to enter a valid move.\"\"\"\n",
    "    while True:\n",
    "        move = input(\"Enter your move (0-8): \")\n",
    "        if move.isdigit() and 0 <= int(move) <= 8 and board[int(move)] == \" \":\n",
    "            return int(move)\n",
    "        print(\"Invalid move, try again.\")\n",
    "\n",
    "def get_ai_move(board):\n",
    "    \"\"\"Find the best move for the AI using the Minimax algorithm.\"\"\"\n",
    "    best_score = -float(\"inf\")\n",
    "    best_move = None\n",
    "    for i in range(9):\n",
    "        if board[i] == \" \":\n",
    "            board[i] = \"O\"  # AI's move\n",
    "            score = minimax(board, False)\n",
    "            board[i] = \" \"  # Undo move\n",
    "            if score > best_score:\n",
    "                best_score = score\n",
    "                best_move = i\n",
    "    return best_move\n",
    "\n",
    "def minimax(board, is_ai_turn):\n",
    "    \"\"\"Recursively evaluate the board to find the best move.\"\"\"\n",
    "    if check_winner(board, \"O\"):  # AI wins\n",
    "        return 1\n",
    "    if check_winner(board, \"X\"):  # Player wins\n",
    "        return -1\n",
    "    if check_tie(board):  # Tie\n",
    "        return 0\n",
    "\n",
    "    if is_ai_turn:\n",
    "        max_score = -float(\"inf\")\n",
    "        for i in range(9):\n",
    "            if board[i] == \" \":\n",
    "                board[i] = \"O\"\n",
    "                score = minimax(board, False)\n",
    "                board[i] = \" \"  # Undo move\n",
    "                max_score = max(max_score, score)\n",
    "        return max_score\n",
    "    else:\n",
    "        min_score = float(\"inf\")\n",
    "        for i in range(9):\n",
    "            if board[i] == \" \":\n",
    "                board[i] = \"X\"\n",
    "                score = minimax(board, True)\n",
    "                board[i] = \" \"  # Undo move\n",
    "                min_score = min(min_score, score)\n",
    "        return min_score\n",
    "\n",
    "def check_winner(board, mark):\n",
    "    \"\"\"Check if the given mark has won the game.\"\"\"\n",
    "    win_conditions = [\n",
    "        [0, 1, 2], [3, 4, 5], [6, 7, 8],  # Rows\n",
    "        [0, 3, 6], [1, 4, 7], [2, 5, 8],  # Columns\n",
    "        [0, 4, 8], [2, 4, 6]              # Diagonals\n",
    "    ]\n",
    "    return any(all(board[i] == mark for i in condition) for condition in win_conditions)\n",
    "\n",
    "def check_tie(board):\n",
    "    \"\"\"Check if the board is full, resulting in a tie.\"\"\"\n",
    "    return \" \" not in board\n",
    "\n",
    "def play_game():\n",
    "    \"\"\"Main function to play the Tic-Tac-Toe game.\"\"\"\n",
    "    board = [\" \" for _ in range(9)]\n",
    "    player_turn = random.choice([True, False])\n",
    "    print(\"Welcome to Tic-Tac-Toe!\")\n",
    "    draw_board(board)\n",
    "\n",
    "    while True:\n",
    "        if player_turn:\n",
    "            move = get_player_move(board)\n",
    "            board[move] = \"X\"\n",
    "        else:\n",
    "            print(\"AI is making a move...\")\n",
    "            move = get_ai_move(board)\n",
    "            board[move] = \"O\"\n",
    "\n",
    "        draw_board(board)\n",
    "\n",
    "        if check_winner(board, \"X\" if player_turn else \"O\"):\n",
    "            print(\"Congratulations! You win!\" if player_turn else \"Sorry, the AI wins.\")\n",
    "            break\n",
    "        elif check_tie(board):\n",
    "            print(\"It's a tie!\")\n",
    "            break\n",
    "\n",
    "        player_turn = not player_turn\n",
    "\n",
    "if __name__ == \"__main__\":\n",
    "    play_game()"
   ]
  },
  {
   "cell_type": "code",
   "execution_count": null,
   "id": "b68b9df4-c691-4731-a86a-07e451bd335e",
   "metadata": {},
   "outputs": [],
   "source": []
  }
 ],
 "metadata": {
  "kernelspec": {
   "display_name": "Python 3 (ipykernel)",
   "language": "python",
   "name": "python3"
  },
  "language_info": {
   "codemirror_mode": {
    "name": "ipython",
    "version": 3
   },
   "file_extension": ".py",
   "mimetype": "text/x-python",
   "name": "python",
   "nbconvert_exporter": "python",
   "pygments_lexer": "ipython3",
   "version": "3.10.11"
  }
 },
 "nbformat": 4,
 "nbformat_minor": 5
}
