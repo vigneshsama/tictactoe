{
 "cells": [
  {
   "cell_type": "markdown",
   "id": "a89b4b17-9fe4-4d48-b3f5-79c1ddcae247",
   "metadata": {},
   "source": [
    "Tic-Tac-Toe game implements Alpha-Beta pruning through the minimax() function, which is the core decision-making mechanism for the AI. This function evaluates the game tree by recursively simulating each possible move for both the player and the AI. The is_maximizing_player parameter indicates whether it's the AI's or the player's turn, with the AI aiming to maximize its score and the player trying to minimize the AI's advantage. The Alpha-Beta pruning technique improves the efficiency of the minimax algorithm by cutting off branches that would not affect the final decision. It uses two parameters, alpha and beta, to track the best values found so far for the maximizing and minimizing players, respectively. If a branch's score is worse than a previously examined one, the algorithm prunes it, reducing the number of branches explored. The get_ai_move() function invokes minimax() to compute the best move for the AI. Additionally, check_winner() and check_tie() functions are used to determine the game's outcome by checking for a winner or a tie after every move. The game alternates turns between the player and the AI, with the AI using the minimax() function to select its optimal move based on the current board state."
   ]
  },
  {
   "cell_type": "code",
   "execution_count": 15,
   "id": "60d6674c-4935-4860-83bb-3dee75414d16",
   "metadata": {},
   "outputs": [
    {
     "name": "stdout",
     "output_type": "stream",
     "text": [
      "Welcome to Tic-Tac-Toe!\n",
      "  |   |  \n",
      "---------\n",
      "  |   |  \n",
      "---------\n",
      "  |   |  \n"
     ]
    },
    {
     "name": "stdin",
     "output_type": "stream",
     "text": [
      "Enter your move (0-8):  4\n"
     ]
    },
    {
     "name": "stdout",
     "output_type": "stream",
     "text": [
      "  |   |  \n",
      "---------\n",
      "  | X |  \n",
      "---------\n",
      "  |   |  \n",
      "AI is making a move...\n",
      "O |   |  \n",
      "---------\n",
      "  | X |  \n",
      "---------\n",
      "  |   |  \n"
     ]
    },
    {
     "name": "stdin",
     "output_type": "stream",
     "text": [
      "Enter your move (0-8):  3\n"
     ]
    },
    {
     "name": "stdout",
     "output_type": "stream",
     "text": [
      "O |   |  \n",
      "---------\n",
      "X | X |  \n",
      "---------\n",
      "  |   |  \n",
      "AI is making a move...\n",
      "O | O |  \n",
      "---------\n",
      "X | X |  \n",
      "---------\n",
      "  |   |  \n"
     ]
    },
    {
     "name": "stdin",
     "output_type": "stream",
     "text": [
      "Enter your move (0-8):  2\n"
     ]
    },
    {
     "name": "stdout",
     "output_type": "stream",
     "text": [
      "O | O | X\n",
      "---------\n",
      "X | X |  \n",
      "---------\n",
      "  |   |  \n",
      "AI is making a move...\n",
      "O | O | X\n",
      "---------\n",
      "X | X | O\n",
      "---------\n",
      "  |   |  \n"
     ]
    },
    {
     "name": "stdin",
     "output_type": "stream",
     "text": [
      "Enter your move (0-8):  8\n"
     ]
    },
    {
     "name": "stdout",
     "output_type": "stream",
     "text": [
      "O | O | X\n",
      "---------\n",
      "X | X | O\n",
      "---------\n",
      "  |   | X\n",
      "AI is making a move...\n",
      "O | O | X\n",
      "---------\n",
      "X | X | O\n",
      "---------\n",
      "  | O | X\n"
     ]
    },
    {
     "name": "stdin",
     "output_type": "stream",
     "text": [
      "Enter your move (0-8):  6\n"
     ]
    },
    {
     "name": "stdout",
     "output_type": "stream",
     "text": [
      "O | O | X\n",
      "---------\n",
      "X | X | O\n",
      "---------\n",
      "X | O | X\n",
      "Congratulations! You win!\n"
     ]
    }
   ],
   "source": [
    "import random\n",
    "\n",
    "def draw_board(board):\n",
    "    print(board[0], \"|\", board[1], \"|\", board[2])\n",
    "    print(\"---------\")\n",
    "    print(board[3], \"|\", board[4], \"|\", board[5])\n",
    "    print(\"---------\")\n",
    "    print(board[6], \"|\", board[7], \"|\", board[8])\n",
    "\n",
    "def get_player_move(board):\n",
    "    valid_move = False\n",
    "    while not valid_move:\n",
    "        move = input(\"Enter your move (0-8): \")\n",
    "        if move.isdigit() and int(move) in range(9) and board[int(move)] == \" \":\n",
    "            return int(move)\n",
    "        else:\n",
    "            print(\"Invalid move, please try again.\")\n",
    "\n",
    "def check_winner(board):\n",
    "    winning_positions = [\n",
    "        (0, 1, 2), (3, 4, 5), (6, 7, 8),\n",
    "        (0, 3, 6), (1, 4, 7), (2, 5, 8),\n",
    "        (0, 4, 8), (2, 4, 6)\n",
    "    ]\n",
    "    for a, b, c in winning_positions:\n",
    "        if board[a] == board[b] == board[c] != \" \":\n",
    "            return True\n",
    "    return False\n",
    "\n",
    "def check_tie(board):\n",
    "    return \" \" not in board\n",
    "\n",
    "def get_ai_move(board):\n",
    "    _, move = minimax(board, True, -float(\"inf\"), float(\"inf\"))\n",
    "    return move\n",
    "\n",
    "def minimax(board, is_maximizing_player, alpha, beta):\n",
    "    if check_winner(board):\n",
    "        return (-1 if is_maximizing_player else 1, None)\n",
    "    elif check_tie(board):\n",
    "        return (0, None)\n",
    "\n",
    "    if is_maximizing_player:\n",
    "        best_score = -float(\"inf\")\n",
    "        for i in range(9):\n",
    "            if board[i] == \" \":\n",
    "                board[i] = \"O\"\n",
    "                score, _ = minimax(board, False, alpha, beta)\n",
    "                board[i] = \" \"\n",
    "                if score > best_score:\n",
    "                    best_score = score\n",
    "                    best_move = i\n",
    "                alpha = max(alpha, best_score)\n",
    "                if beta <= alpha:\n",
    "                    break\n",
    "        return (best_score, best_move)\n",
    "    else:\n",
    "        best_score = float(\"inf\")\n",
    "        for i in range(9):\n",
    "            if board[i] == \" \":\n",
    "                board[i] = \"X\"\n",
    "                score, _ = minimax(board, True, alpha, beta)\n",
    "                board[i] = \" \"\n",
    "                if score < best_score:\n",
    "                    best_score = score\n",
    "                    best_move = i\n",
    "                beta = min(beta, best_score)\n",
    "                if beta <= alpha:\n",
    "                    break\n",
    "        return (best_score, best_move)\n",
    "\n",
    "\n",
    "def play_game():\n",
    "    board = [\" \" for _ in range(9)]\n",
    "    player_turn = random.choice([True, False])\n",
    "    print(\"Welcome to Tic-Tac-Toe!\")\n",
    "    draw_board(board)\n",
    "    while True:\n",
    "        if player_turn:\n",
    "            move = get_player_move(board)\n",
    "            board[move] = \"X\"\n",
    "        else:\n",
    "            print(\"AI is making a move...\")\n",
    "            move = get_ai_move(board)\n",
    "            board[move] = \"O\"\n",
    "        draw_board(board)\n",
    "        if check_winner(board):\n",
    "            if player_turn:\n",
    "                print(\"Congratulations! You win!\")\n",
    "            else:\n",
    "                print(\"Sorry, the AI wins.\")\n",
    "            break\n",
    "        elif check_tie(board):\n",
    "            print(\"It's a tie!\")\n",
    "            break\n",
    "        player_turn = not player_turn\n",
    "\n",
    "if __name__ == \"__main__\":\n",
    "    play_game()\n"
   ]
  },
  {
   "cell_type": "code",
   "execution_count": null,
   "id": "a06a4734-9832-425d-b299-67e5465156ef",
   "metadata": {},
   "outputs": [],
   "source": []
  }
 ],
 "metadata": {
  "kernelspec": {
   "display_name": "Python 3 (ipykernel)",
   "language": "python",
   "name": "python3"
  },
  "language_info": {
   "codemirror_mode": {
    "name": "ipython",
    "version": 3
   },
   "file_extension": ".py",
   "mimetype": "text/x-python",
   "name": "python",
   "nbconvert_exporter": "python",
   "pygments_lexer": "ipython3",
   "version": "3.10.11"
  }
 },
 "nbformat": 4,
 "nbformat_minor": 5
}
